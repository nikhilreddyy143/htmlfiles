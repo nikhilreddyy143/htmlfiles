{
 "cells": [
  {
   "cell_type": "code",
   "execution_count": 7,
   "metadata": {},
   "outputs": [],
   "source": [
    "import pandas as pd\n"
   ]
  },
  {
   "cell_type": "code",
   "execution_count": null,
   "metadata": {},
   "outputs": [],
   "source": []
  },
  {
   "cell_type": "code",
   "execution_count": 5,
   "metadata": {},
   "outputs": [],
   "source": [
    "df=pd.read_csv(\"/home/cse-lab/Documents/MELBOURNE_HOUSE_PRICES_LESS.csv\")"
   ]
  },
  {
   "cell_type": "code",
   "execution_count": 27,
   "metadata": {},
   "outputs": [],
   "source": [
    "df=df.dropna()"
   ]
  },
  {
   "cell_type": "code",
   "execution_count": 29,
   "metadata": {},
   "outputs": [
    {
     "name": "stdout",
     "output_type": "stream",
     "text": [
      "(48433, 13)\n"
     ]
    }
   ],
   "source": [
    "print(df.shape)"
   ]
  },
  {
   "cell_type": "code",
   "execution_count": 30,
   "metadata": {},
   "outputs": [
    {
     "name": "stdout",
     "output_type": "stream",
     "text": [
      "Index(['Suburb', 'Address', 'Rooms', 'Type', 'Price', 'Method', 'SellerG',\n",
      "       'Date', 'Postcode', 'Regionname', 'Propertycount', 'Distance',\n",
      "       'CouncilArea'],\n",
      "      dtype='object')\n"
     ]
    }
   ],
   "source": [
    "print(df.columns)"
   ]
  },
  {
   "cell_type": "code",
   "execution_count": null,
   "metadata": {},
   "outputs": [],
   "source": []
  },
  {
   "cell_type": "code",
   "execution_count": 28,
   "metadata": {},
   "outputs": [],
   "source": [
    "price=df[\"Price\"]"
   ]
  },
  {
   "cell_type": "code",
   "execution_count": 11,
   "metadata": {},
   "outputs": [
    {
     "name": "stdout",
     "output_type": "stream",
     "text": [
      "0        1490000.0\n",
      "1        1220000.0\n",
      "2        1420000.0\n",
      "3        1515000.0\n",
      "4         670000.0\n",
      "           ...    \n",
      "63018     566000.0\n",
      "63019     500000.0\n",
      "63020     545000.0\n",
      "63021          NaN\n",
      "63022          NaN\n",
      "Name: Price, Length: 63023, dtype: float64\n"
     ]
    }
   ],
   "source": [
    "print(price)"
   ]
  },
  {
   "cell_type": "code",
   "execution_count": 12,
   "metadata": {},
   "outputs": [
    {
     "data": {
      "text/html": [
       "<div>\n",
       "<style scoped>\n",
       "    .dataframe tbody tr th:only-of-type {\n",
       "        vertical-align: middle;\n",
       "    }\n",
       "\n",
       "    .dataframe tbody tr th {\n",
       "        vertical-align: top;\n",
       "    }\n",
       "\n",
       "    .dataframe thead th {\n",
       "        text-align: right;\n",
       "    }\n",
       "</style>\n",
       "<table border=\"1\" class=\"dataframe\">\n",
       "  <thead>\n",
       "    <tr style=\"text-align: right;\">\n",
       "      <th></th>\n",
       "      <th>Suburb</th>\n",
       "      <th>Address</th>\n",
       "      <th>Rooms</th>\n",
       "      <th>Type</th>\n",
       "      <th>Price</th>\n",
       "      <th>Method</th>\n",
       "      <th>SellerG</th>\n",
       "      <th>Date</th>\n",
       "      <th>Postcode</th>\n",
       "      <th>Regionname</th>\n",
       "      <th>Propertycount</th>\n",
       "      <th>Distance</th>\n",
       "      <th>CouncilArea</th>\n",
       "    </tr>\n",
       "  </thead>\n",
       "  <tbody>\n",
       "    <tr>\n",
       "      <th>0</th>\n",
       "      <td>Abbotsford</td>\n",
       "      <td>49 Lithgow St</td>\n",
       "      <td>3</td>\n",
       "      <td>h</td>\n",
       "      <td>1490000.0</td>\n",
       "      <td>S</td>\n",
       "      <td>Jellis</td>\n",
       "      <td>1/04/2017</td>\n",
       "      <td>3067</td>\n",
       "      <td>Northern Metropolitan</td>\n",
       "      <td>4019</td>\n",
       "      <td>3.0</td>\n",
       "      <td>Yarra City Council</td>\n",
       "    </tr>\n",
       "    <tr>\n",
       "      <th>1</th>\n",
       "      <td>Abbotsford</td>\n",
       "      <td>59A Turner St</td>\n",
       "      <td>3</td>\n",
       "      <td>h</td>\n",
       "      <td>1220000.0</td>\n",
       "      <td>S</td>\n",
       "      <td>Marshall</td>\n",
       "      <td>1/04/2017</td>\n",
       "      <td>3067</td>\n",
       "      <td>Northern Metropolitan</td>\n",
       "      <td>4019</td>\n",
       "      <td>3.0</td>\n",
       "      <td>Yarra City Council</td>\n",
       "    </tr>\n",
       "    <tr>\n",
       "      <th>2</th>\n",
       "      <td>Abbotsford</td>\n",
       "      <td>119B Yarra St</td>\n",
       "      <td>3</td>\n",
       "      <td>h</td>\n",
       "      <td>1420000.0</td>\n",
       "      <td>S</td>\n",
       "      <td>Nelson</td>\n",
       "      <td>1/04/2017</td>\n",
       "      <td>3067</td>\n",
       "      <td>Northern Metropolitan</td>\n",
       "      <td>4019</td>\n",
       "      <td>3.0</td>\n",
       "      <td>Yarra City Council</td>\n",
       "    </tr>\n",
       "    <tr>\n",
       "      <th>3</th>\n",
       "      <td>Aberfeldie</td>\n",
       "      <td>68 Vida St</td>\n",
       "      <td>3</td>\n",
       "      <td>h</td>\n",
       "      <td>1515000.0</td>\n",
       "      <td>S</td>\n",
       "      <td>Barry</td>\n",
       "      <td>1/04/2017</td>\n",
       "      <td>3040</td>\n",
       "      <td>Western Metropolitan</td>\n",
       "      <td>1543</td>\n",
       "      <td>7.5</td>\n",
       "      <td>Moonee Valley City Council</td>\n",
       "    </tr>\n",
       "    <tr>\n",
       "      <th>4</th>\n",
       "      <td>Airport West</td>\n",
       "      <td>92 Clydesdale Rd</td>\n",
       "      <td>2</td>\n",
       "      <td>h</td>\n",
       "      <td>670000.0</td>\n",
       "      <td>S</td>\n",
       "      <td>Nelson</td>\n",
       "      <td>1/04/2017</td>\n",
       "      <td>3042</td>\n",
       "      <td>Western Metropolitan</td>\n",
       "      <td>3464</td>\n",
       "      <td>10.4</td>\n",
       "      <td>Moonee Valley City Council</td>\n",
       "    </tr>\n",
       "  </tbody>\n",
       "</table>\n",
       "</div>"
      ],
      "text/plain": [
       "         Suburb           Address  Rooms Type      Price Method   SellerG  \\\n",
       "0    Abbotsford     49 Lithgow St      3    h  1490000.0      S    Jellis   \n",
       "1    Abbotsford     59A Turner St      3    h  1220000.0      S  Marshall   \n",
       "2    Abbotsford     119B Yarra St      3    h  1420000.0      S    Nelson   \n",
       "3    Aberfeldie        68 Vida St      3    h  1515000.0      S     Barry   \n",
       "4  Airport West  92 Clydesdale Rd      2    h   670000.0      S    Nelson   \n",
       "\n",
       "        Date  Postcode             Regionname  Propertycount  Distance  \\\n",
       "0  1/04/2017      3067  Northern Metropolitan           4019       3.0   \n",
       "1  1/04/2017      3067  Northern Metropolitan           4019       3.0   \n",
       "2  1/04/2017      3067  Northern Metropolitan           4019       3.0   \n",
       "3  1/04/2017      3040   Western Metropolitan           1543       7.5   \n",
       "4  1/04/2017      3042   Western Metropolitan           3464      10.4   \n",
       "\n",
       "                  CouncilArea  \n",
       "0          Yarra City Council  \n",
       "1          Yarra City Council  \n",
       "2          Yarra City Council  \n",
       "3  Moonee Valley City Council  \n",
       "4  Moonee Valley City Council  "
      ]
     },
     "execution_count": 12,
     "metadata": {},
     "output_type": "execute_result"
    }
   ],
   "source": [
    "df.head(5)"
   ]
  },
  {
   "cell_type": "code",
   "execution_count": 15,
   "metadata": {},
   "outputs": [],
   "source": [
    "b=df[\"Date\"]"
   ]
  },
  {
   "cell_type": "code",
   "execution_count": 16,
   "metadata": {},
   "outputs": [
    {
     "name": "stdout",
     "output_type": "stream",
     "text": [
      "0         1/04/2017\n",
      "1         1/04/2017\n",
      "2         1/04/2017\n",
      "3         1/04/2017\n",
      "4         1/04/2017\n",
      "            ...    \n",
      "63018    31/03/2018\n",
      "63019    31/03/2018\n",
      "63020    31/03/2018\n",
      "63021    31/03/2018\n",
      "63022    31/03/2018\n",
      "Name: Date, Length: 63023, dtype: object\n"
     ]
    }
   ],
   "source": [
    "print(b)"
   ]
  },
  {
   "cell_type": "code",
   "execution_count": 17,
   "metadata": {},
   "outputs": [
    {
     "name": "stdout",
     "output_type": "stream",
     "text": [
      "/home/cse-lab\r\n"
     ]
    }
   ],
   "source": [
    "!pwd"
   ]
  },
  {
   "cell_type": "code",
   "execution_count": 18,
   "metadata": {},
   "outputs": [
    {
     "name": "stdout",
     "output_type": "stream",
     "text": [
      " 1.c\t\t\t    Downloads\t file8,txt\t        Public\r\n",
      " 1.txt\t\t\t    file10,txt\t file9,txt\t        snap\r\n",
      "'2022-04-04 21-27-00.mkv'   file1,txt\t introlatex.txt         Templates\r\n",
      " anaconda3\t\t    file2,txt\t INTRO.TEX\t        Untitled1.ipynb\r\n",
      " b191016\t\t    file3,txt\t Music\t\t        Untitled2.ipynb\r\n",
      " b192389\t\t    file4,txt\t my_tensorflow\t        Untitled3.ipynb\r\n",
      " cse\t\t\t    file5,txt\t'Nikhil Reddy .ipynb'   Untitled.ipynb\r\n",
      " Desktop\t\t    file6,txt\t Pictures\t        Videos\r\n",
      " Documents\t\t    file7,txt\t pt\t\t        yuvi\r\n"
     ]
    }
   ],
   "source": [
    "!ls"
   ]
  },
  {
   "cell_type": "code",
   "execution_count": 19,
   "metadata": {},
   "outputs": [],
   "source": [
    "!mkdir nikhil"
   ]
  },
  {
   "cell_type": "code",
   "execution_count": 21,
   "metadata": {},
   "outputs": [],
   "source": [
    "!mkdir arun"
   ]
  },
  {
   "cell_type": "code",
   "execution_count": 24,
   "metadata": {},
   "outputs": [],
   "source": [
    "!cp -r /home/cse-lab/nikhil  /home/cse-lab/arun"
   ]
  },
  {
   "cell_type": "code",
   "execution_count": 25,
   "metadata": {},
   "outputs": [],
   "source": [
    "import matplotlib.pyplot as plt"
   ]
  },
  {
   "cell_type": "code",
   "execution_count": 26,
   "metadata": {},
   "outputs": [
    {
     "name": "stderr",
     "output_type": "stream",
     "text": [
      "/usr/lib/python3/dist-packages/numpy/lib/histograms.py:839: RuntimeWarning: invalid value encountered in greater_equal\n",
      "  keep = (tmp_a >= first_edge)\n",
      "/usr/lib/python3/dist-packages/numpy/lib/histograms.py:840: RuntimeWarning: invalid value encountered in less_equal\n",
      "  keep &= (tmp_a <= last_edge)\n"
     ]
    },
    {
     "data": {
      "text/plain": [
       "(array([3.5588e+04, 1.1137e+04, 1.3390e+03, 2.5100e+02, 8.7000e+01,\n",
       "        2.5000e+01, 3.0000e+00, 1.0000e+00, 1.0000e+00, 1.0000e+00]),\n",
       " array([   85000.,  1196500.,  2308000.,  3419500.,  4531000.,  5642500.,\n",
       "         6754000.,  7865500.,  8977000., 10088500., 11200000.]),\n",
       " <a list of 10 Patch objects>)"
      ]
     },
     "execution_count": 26,
     "metadata": {},
     "output_type": "execute_result"
    },
    {
     "data": {
      "image/png": "[encoded data removed]",
      "text/plain": [
       "<Figure size 432x288 with 1 Axes>"
      ]
     },
     "metadata": {
      "needs_background": "light"
     },
     "output_type": "display_data"
    }
   ],
   "source": [
    "plt.hist(price)"
   ]
  },
  {
   "cell_type": "code",
   "execution_count": 32,
   "metadata": {},
   "outputs": [],
   "source": [
    "df=df.dropna(1)"
   ]
  },
  {
   "cell_type": "code",
   "execution_count": 33,
   "metadata": {},
   "outputs": [
    {
     "name": "stdout",
     "output_type": "stream",
     "text": [
      "(48433, 13)\n"
     ]
    }
   ],
   "source": [
    "print(df.shape)"
   ]
  },
  {
   "cell_type": "code",
   "execution_count": 34,
   "metadata": {},
   "outputs": [
    {
     "name": "stdout",
     "output_type": "stream",
     "text": [
      "997898.2414882415\n"
     ]
    }
   ],
   "source": [
    "print(df['Price'].mean())"
   ]
  },
  {
   "cell_type": "code",
   "execution_count": 35,
   "metadata": {},
   "outputs": [
    {
     "name": "stdout",
     "output_type": "stream",
     "text": [
      "830000.0\n"
     ]
    }
   ],
   "source": [
    "print(df['Price'].median())"
   ]
  },
  {
   "cell_type": "code",
   "execution_count": 39,
   "metadata": {},
   "outputs": [
    {
     "name": "stdout",
     "output_type": "stream",
     "text": [
      "0    600000.0\n",
      "dtype: float64\n"
     ]
    }
   ],
   "source": [
    "print(df['Price'].mode())"
   ]
  },
  {
   "cell_type": "code",
   "execution_count": 41,
   "metadata": {},
   "outputs": [
    {
     "name": "stdout",
     "output_type": "stream",
     "text": [
      "3123.210331798567\n",
      "3103.0\n",
      "0    3073\n",
      "dtype: int64\n",
      "125.534940287005\n"
     ]
    }
   ],
   "source": [
    "print(df['Postcode'].mean())\n",
    "print(df['Postcode'].median())\n",
    "print(df['Postcode'].mode())\n",
    "print(df['Postcode'].std())"
   ]
  },
  {
   "cell_type": "code",
   "execution_count": 47,
   "metadata": {},
   "outputs": [
    {
     "name": "stdout",
     "output_type": "stream",
     "text": [
      "{3: 21812, 4: 11576, 2: 10674, 5: 2350, 1: 1670, 6: 283, 7: 36, 8: 19, 10: 6, 12: 2, 9: 2, 31: 1, 16: 1, 11: 1}\n"
     ]
    }
   ],
   "source": [
    "rooms_count=df['Rooms'].value_counts()\n",
    "rooms_count=dict(rooms_count)\n",
    "print(rooms_count)"
   ]
  },
  {
   "cell_type": "code",
   "execution_count": 48,
   "metadata": {},
   "outputs": [
    {
     "name": "stdout",
     "output_type": "stream",
     "text": [
      "dict_keys([3, 4, 2, 5, 1, 6, 7, 8, 10, 12, 9, 31, 16, 11])\n"
     ]
    }
   ],
   "source": [
    "r=rooms_count.keys()\n",
    "print(r)"
   ]
  },
  {
   "cell_type": "code",
   "execution_count": 52,
   "metadata": {},
   "outputs": [
    {
     "name": "stdout",
     "output_type": "stream",
     "text": [
      "dict_values([21812, 11576, 10674, 2350, 1670, 283, 36, 19, 6, 2, 2, 1, 1, 1])\n"
     ]
    }
   ],
   "source": [
    "c=rooms_count.values()\n",
    "print(c)"
   ]
  },
  {
   "cell_type": "code",
   "execution_count": 53,
   "metadata": {},
   "outputs": [
    {
     "data": {
      "image/png": "[encoded data removed]",
      "text/plain": [
       "<Figure size 432x288 with 1 Axes>"
      ]
     },
     "metadata": {
      "needs_background": "light"
     },
     "output_type": "display_data"
    }
   ],
   "source": [
    "plt.bar(x=r,height=c)\n",
    "plt.show()"
   ]
  },
  {
   "cell_type": "code",
   "execution_count": 54,
   "metadata": {},
   "outputs": [
    {
     "name": "stdout",
     "output_type": "stream",
     "text": [
      "{3073: 1067, 3064: 854, 3020: 767, 3046: 756, 3121: 709, 3165: 696, 3150: 672, 3058: 658, 3204: 649, 3040: 629, 3012: 602, 3032: 601, 3195: 595, 3072: 593, 3163: 568, 3030: 558, 3149: 556, 3056: 540, 3029: 533, 3130: 526, 3070: 496, 3192: 493, 3037: 480, 3083: 480, 3082: 454, 3088: 448, 3011: 437, 3141: 436, 3146: 434, 3042: 433, 3044: 433, 3101: 430, 3122: 429, 3076: 421, 3181: 419, 3084: 415, 3182: 410, 3104: 407, 3043: 405, 3186: 404, 3188: 403, 3199: 399, 3015: 399, 3071: 394, 3109: 393, 3068: 382, 3127: 381, 3031: 378, 3124: 376, 3021: 376, 3187: 366, 3081: 364, 3207: 362, 3193: 361, 3013: 351, 3047: 344, 3131: 340, 3136: 339, 3145: 338, 3103: 335, 3754: 334, 3196: 323, 3039: 322, 3194: 313, 3132: 308, 3134: 305, 3033: 304, 3038: 304, 3166: 301, 3041: 301, 3095: 300, 3075: 297, 3170: 297, 3079: 293, 3055: 289, 3147: 285, 3016: 285, 3184: 282, 3108: 278, 3074: 273, 3190: 264, 3023: 259, 3060: 259, 3752: 256, 3123: 252, 3152: 251, 3429: 245, 3085: 242, 3142: 235, 3135: 233, 3107: 232, 3175: 224, 3172: 219, 3125: 218, 3059: 215, 3106: 209, 3000: 207, 3078: 205, 3191: 204, 3133: 204, 3143: 202, 3185: 200, 3057: 197, 3205: 197, 3034: 194, 3206: 192, 3094: 192, 3169: 192, 3087: 178, 3105: 177, 3025: 171, 3018: 170, 3144: 170, 3065: 154, 3051: 153, 3168: 151, 3111: 151, 3167: 150, 3049: 150, 3189: 147, 3162: 147, 3102: 145, 3054: 145, 3337: 144, 3067: 142, 3066: 138, 3174: 137, 3153: 134, 3156: 129, 3024: 129, 3750: 127, 3019: 125, 3151: 124, 3198: 123, 3053: 120, 3126: 116, 3128: 116, 3148: 112, 3338: 111, 3171: 108, 3197: 107, 3155: 103, 3048: 99, 3173: 91, 3806: 90, 3161: 89, 3022: 89, 3028: 87, 3437: 86, 3138: 86, 3006: 85, 3178: 82, 3183: 76, 3089: 73, 3977: 72, 3052: 70, 3003: 65, 3036: 64, 3201: 58, 3093: 57, 3802: 57, 3177: 51, 3002: 51, 3805: 48, 3180: 43, 3137: 43, 3113: 40, 3179: 38, 3910: 31, 3335: 31, 3810: 30, 3756: 30, 3200: 29, 3116: 23, 3061: 21, 3976: 19, 3027: 18, 3140: 16, 3202: 15, 3431: 14, 3438: 13, 3803: 12, 3154: 12, 3090: 11, 3340: 10, 3008: 9, 3427: 8, 3796: 8, 3096: 8, 3777: 7, 3807: 7, 3160: 7, 3757: 6, 3975: 6, 3782: 6, 3809: 5, 3115: 5, 3765: 5, 3099: 5, 3063: 4, 3158: 4, 3139: 4, 3775: 3, 3428: 3, 3978: 3, 3808: 3, 3795: 3, 3759: 2, 3114: 2, 3793: 2, 3786: 2, 3797: 1, 3766: 1, 3341: 1, 3770: 1, 3791: 1, 3755: 1, 3781: 1, 3788: 1, 3767: 1, 3980: 1}\n"
     ]
    }
   ],
   "source": [
    "postcode_count=df['Postcode'].value_counts()\n",
    "postcode_count=dict(postcode_count)\n",
    "print(postcode_count)"
   ]
  },
  {
   "cell_type": "code",
   "execution_count": 56,
   "metadata": {},
   "outputs": [
    {
     "name": "stdout",
     "output_type": "stream",
     "text": [
      "dict_keys([3073, 3064, 3020, 3046, 3121, 3165, 3150, 3058, 3204, 3040, 3012, 3032, 3195, 3072, 3163, 3030, 3149, 3056, 3029, 3130, 3070, 3192, 3037, 3083, 3082, 3088, 3011, 3141, 3146, 3042, 3044, 3101, 3122, 3076, 3181, 3084, 3182, 3104, 3043, 3186, 3188, 3199, 3015, 3071, 3109, 3068, 3127, 3031, 3124, 3021, 3187, 3081, 3207, 3193, 3013, 3047, 3131, 3136, 3145, 3103, 3754, 3196, 3039, 3194, 3132, 3134, 3033, 3038, 3166, 3041, 3095, 3075, 3170, 3079, 3055, 3147, 3016, 3184, 3108, 3074, 3190, 3023, 3060, 3752, 3123, 3152, 3429, 3085, 3142, 3135, 3107, 3175, 3172, 3125, 3059, 3106, 3000, 3078, 3191, 3133, 3143, 3185, 3057, 3205, 3034, 3206, 3094, 3169, 3087, 3105, 3025, 3018, 3144, 3065, 3051, 3168, 3111, 3167, 3049, 3189, 3162, 3102, 3054, 3337, 3067, 3066, 3174, 3153, 3156, 3024, 3750, 3019, 3151, 3198, 3053, 3126, 3128, 3148, 3338, 3171, 3197, 3155, 3048, 3173, 3806, 3161, 3022, 3028, 3437, 3138, 3006, 3178, 3183, 3089, 3977, 3052, 3003, 3036, 3201, 3093, 3802, 3177, 3002, 3805, 3180, 3137, 3113, 3179, 3910, 3335, 3810, 3756, 3200, 3116, 3061, 3976, 3027, 3140, 3202, 3431, 3438, 3803, 3154, 3090, 3340, 3008, 3427, 3796, 3096, 3777, 3807, 3160, 3757, 3975, 3782, 3809, 3115, 3765, 3099, 3063, 3158, 3139, 3775, 3428, 3978, 3808, 3795, 3759, 3114, 3793, 3786, 3797, 3766, 3341, 3770, 3791, 3755, 3781, 3788, 3767, 3980])\n"
     ]
    }
   ],
   "source": [
    "e=postcode_count.keys()\n",
    "print(e)"
   ]
  },
  {
   "cell_type": "code",
   "execution_count": 57,
   "metadata": {},
   "outputs": [
    {
     "name": "stdout",
     "output_type": "stream",
     "text": [
      "dict_values([1067, 854, 767, 756, 709, 696, 672, 658, 649, 629, 602, 601, 595, 593, 568, 558, 556, 540, 533, 526, 496, 493, 480, 480, 454, 448, 437, 436, 434, 433, 433, 430, 429, 421, 419, 415, 410, 407, 405, 404, 403, 399, 399, 394, 393, 382, 381, 378, 376, 376, 366, 364, 362, 361, 351, 344, 340, 339, 338, 335, 334, 323, 322, 313, 308, 305, 304, 304, 301, 301, 300, 297, 297, 293, 289, 285, 285, 282, 278, 273, 264, 259, 259, 256, 252, 251, 245, 242, 235, 233, 232, 224, 219, 218, 215, 209, 207, 205, 204, 204, 202, 200, 197, 197, 194, 192, 192, 192, 178, 177, 171, 170, 170, 154, 153, 151, 151, 150, 150, 147, 147, 145, 145, 144, 142, 138, 137, 134, 129, 129, 127, 125, 124, 123, 120, 116, 116, 112, 111, 108, 107, 103, 99, 91, 90, 89, 89, 87, 86, 86, 85, 82, 76, 73, 72, 70, 65, 64, 58, 57, 57, 51, 51, 48, 43, 43, 40, 38, 31, 31, 30, 30, 29, 23, 21, 19, 18, 16, 15, 14, 13, 12, 12, 11, 10, 9, 8, 8, 8, 7, 7, 7, 6, 6, 6, 5, 5, 5, 5, 4, 4, 4, 3, 3, 3, 3, 3, 2, 2, 2, 2, 1, 1, 1, 1, 1, 1, 1, 1, 1, 1])\n"
     ]
    }
   ],
   "source": [
    "f=postcode_count.values()\n",
    "print(f)"
   ]
  },
  {
   "cell_type": "code",
   "execution_count": 58,
   "metadata": {},
   "outputs": [
    {
     "data": {
      "image/png": "[encoded data removed]",
      "text/plain": [
       "<Figure size 432x288 with 1 Axes>"
      ]
     },
     "metadata": {
      "needs_background": "light"
     },
     "output_type": "display_data"
    }
   ],
   "source": [
    "plt.bar(x=e,height=f)\n",
    "plt.show()"
   ]
  },
  {
   "cell_type": "code",
   "execution_count": 59,
   "metadata": {},
   "outputs": [
    {
     "name": "stdout",
     "output_type": "stream",
     "text": [
      "[ 3  2  4  1  5  7  6  8 11 10  9 12 31 16]\n"
     ]
    }
   ],
   "source": [
    "print(df['Rooms'].unique())"
   ]
  },
  {
   "cell_type": "code",
   "execution_count": 60,
   "metadata": {},
   "outputs": [
    {
     "name": "stdout",
     "output_type": "stream",
     "text": [
      "['Northern Metropolitan' 'Western Metropolitan' 'Southern Metropolitan'\n",
      " 'South-Eastern Metropolitan' 'Eastern Metropolitan' 'Northern Victoria'\n",
      " 'Eastern Victoria' 'Western Victoria']\n"
     ]
    }
   ],
   "source": [
    "print(df['Regionname'].unique())"
   ]
  },
  {
   "cell_type": "code",
   "execution_count": 61,
   "metadata": {},
   "outputs": [
    {
     "name": "stdout",
     "output_type": "stream",
     "text": [
      "{'Northern Metropolitan': 13598, 'Southern Metropolitan': 12549, 'Western Metropolitan': 9680, 'Eastern Metropolitan': 7585, 'South-Eastern Metropolitan': 4010, 'Northern Victoria': 455, 'Eastern Victoria': 374, 'Western Victoria': 182}\n"
     ]
    }
   ],
   "source": [
    "region_count=df['Regionname'].value_counts()\n",
    "region_count=dict(region_count)\n",
    "print(region_count)"
   ]
  },
  {
   "cell_type": "code",
   "execution_count": 63,
   "metadata": {},
   "outputs": [
    {
     "name": "stdout",
     "output_type": "stream",
     "text": [
      "dict_keys(['Northern Metropolitan', 'Southern Metropolitan', 'Western Metropolitan', 'Eastern Metropolitan', 'South-Eastern Metropolitan', 'Northern Victoria', 'Eastern Victoria', 'Western Victoria'])\n"
     ]
    }
   ],
   "source": [
    "k=region_count.keys()\n",
    "print(k)"
   ]
  },
  {
   "cell_type": "code",
   "execution_count": 64,
   "metadata": {},
   "outputs": [
    {
     "name": "stdout",
     "output_type": "stream",
     "text": [
      "dict_values([13598, 12549, 9680, 7585, 4010, 455, 374, 182])\n"
     ]
    }
   ],
   "source": [
    "n=region_count.values()\n",
    "print(n)"
   ]
  },
  {
   "cell_type": "code",
   "execution_count": 69,
   "metadata": {},
   "outputs": [
    {
     "data": {
      "image/png": "[encoded data removed]",
      "text/plain": [
       "<Figure size 504x504 with 1 Axes>"
      ]
     },
     "metadata": {},
     "output_type": "display_data"
    }
   ],
   "source": [
    "fig=plt.figure(figsize=(7,7))\n",
    "plt.pie(x=n,labels=k,explode=[0.3,0.0,0.19,0.1,0.9,0.0,0.0,0.0])\n",
    "plt.title('Houses in different region')\n",
    "plt.show()"
   ]
  },
  {
   "cell_type": "code",
   "execution_count": 1,
   "metadata": {},
   "outputs": [
    {
     "ename": "NameError",
     "evalue": "name 'df' is not defined",
     "output_type": "error",
     "traceback": [
      "\u001b[0;31m---------------------------------------------------------------------------\u001b[0m",
      "\u001b[0;31mNameError\u001b[0m                                 Traceback (most recent call last)",
      "\u001b[0;32m<ipython-input-1-8e813ea15249>\u001b[0m in \u001b[0;36m<module>\u001b[0;34m\u001b[0m\n\u001b[0;32m----> 1\u001b[0;31m \u001b[0mprint\u001b[0m\u001b[0;34m(\u001b[0m\u001b[0mdf\u001b[0m\u001b[0;34m[\u001b[0m\u001b[0;34m'Distance'\u001b[0m\u001b[0;34m]\u001b[0m\u001b[0;34m.\u001b[0m\u001b[0munique\u001b[0m\u001b[0;34m(\u001b[0m\u001b[0;34m)\u001b[0m\u001b[0;34m)\u001b[0m\u001b[0;34m\u001b[0m\u001b[0;34m\u001b[0m\u001b[0m\n\u001b[0m",
      "\u001b[0;31mNameError\u001b[0m: name 'df' is not defined"
     ]
    }
   ],
   "source": [
    "print(df['Distance'].unique())"
   ]
  },
  {
   "cell_type": "code",
   "execution_count": null,
   "metadata": {},
   "outputs": [],
   "source": []
  }
 ],
 "metadata": {
  "kernelspec": {
   "display_name": "Python 3",
   "language": "python",
   "name": "python3"
  },
  "language_info": {
   "codemirror_mode": {
    "name": "ipython",
    "version": 3
   },
   "file_extension": ".py",
   "mimetype": "text/x-python",
   "name": "python",
   "nbconvert_exporter": "python",
   "pygments_lexer": "ipython3",
   "version": "3.8.10"
  }
 },
 "nbformat": 4,
 "nbformat_minor": 4
}
